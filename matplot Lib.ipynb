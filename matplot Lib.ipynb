{
 "cells": [
  {
   "cell_type": "code",
   "execution_count": 1,
   "id": "ea49bcda",
   "metadata": {},
   "outputs": [
    {
     "name": "stdout",
     "output_type": "stream",
     "text": [
      "Requirement already satisfied: matplotlib in c:\\programdata\\anaconda3\\lib\\site-packages (3.3.4)\n",
      "Requirement already satisfied: numpy>=1.15 in c:\\programdata\\anaconda3\\lib\\site-packages (from matplotlib) (1.20.1)\n",
      "Requirement already satisfied: cycler>=0.10 in c:\\programdata\\anaconda3\\lib\\site-packages (from matplotlib) (0.10.0)\n",
      "Requirement already satisfied: kiwisolver>=1.0.1 in c:\\programdata\\anaconda3\\lib\\site-packages (from matplotlib) (1.3.1)\n",
      "Requirement already satisfied: pyparsing!=2.0.4,!=2.1.2,!=2.1.6,>=2.0.3 in c:\\programdata\\anaconda3\\lib\\site-packages (from matplotlib) (2.4.7)\n",
      "Requirement already satisfied: pillow>=6.2.0 in c:\\programdata\\anaconda3\\lib\\site-packages (from matplotlib) (8.2.0)\n",
      "Requirement already satisfied: python-dateutil>=2.1 in c:\\programdata\\anaconda3\\lib\\site-packages (from matplotlib) (2.8.1)\n",
      "Requirement already satisfied: six in c:\\programdata\\anaconda3\\lib\\site-packages (from cycler>=0.10->matplotlib) (1.15.0)\n",
      "Note: you may need to restart the kernel to use updated packages.\n"
     ]
    }
   ],
   "source": [
    "pip install matplotlib"
   ]
  },
  {
   "cell_type": "code",
   "execution_count": 1,
   "id": "06bab8e0",
   "metadata": {},
   "outputs": [],
   "source": [
    "import matplotlib.pyplot as plt\n",
    "import numpy as np\n",
    "import pandas as pd "
   ]
  },
  {
   "cell_type": "code",
   "execution_count": 2,
   "id": "e80ac6b2",
   "metadata": {},
   "outputs": [],
   "source": [
    "%matplotlib inline"
   ]
  },
  {
   "cell_type": "markdown",
   "id": "fb7152e8",
   "metadata": {},
   "source": [
    "## Line Plot"
   ]
  },
  {
   "cell_type": "code",
   "execution_count": 6,
   "id": "6f924e07",
   "metadata": {},
   "outputs": [],
   "source": [
    "x = np.arange(0,10)\n",
    "y =np.arange(11,21)"
   ]
  },
  {
   "cell_type": "code",
   "execution_count": 19,
   "id": "db59a074",
   "metadata": {},
   "outputs": [
    {
     "data": {
      "text/plain": [
       "Text(0.5, 1.0, '2d diagram')"
      ]
     },
     "execution_count": 19,
     "metadata": {},
     "output_type": "execute_result"
    },
    {
     "data": {
      "image/png": "[encoded data removed]",
      "text/plain": [
       "<Figure size 432x288 with 1 Axes>"
      ]
     },
     "metadata": {
      "needs_background": "light"
     },
     "output_type": "display_data"
    }
   ],
   "source": [
    " z =plt.plot(x,y,'r|',linestyle=\"dashed\",marker=\"*\",markersize=12)\n",
    "plt.xlabel('x axis')\n",
    "plt.ylabel('y axis')\n",
    "plt.title('2d diagram')"
   ]
  },
  {
   "cell_type": "code",
   "execution_count": 14,
   "id": "f04eee01",
   "metadata": {},
   "outputs": [],
   "source": [
    "x = np.linspace(0,5,11)\n",
    "y = x**2"
   ]
  },
  {
   "cell_type": "code",
   "execution_count": 15,
   "id": "958eaa9a",
   "metadata": {},
   "outputs": [
    {
     "data": {
      "text/plain": [
       "[<matplotlib.lines.Line2D at 0x1e25ee8f190>]"
      ]
     },
     "execution_count": 15,
     "metadata": {},
     "output_type": "execute_result"
    },
    {
     "data": {
      "image/png": "[encoded data removed]",
      "text/plain": [
       "<Figure size 432x288 with 1 Axes>"
      ]
     },
     "metadata": {
      "needs_background": "light"
     },
     "output_type": "display_data"
    }
   ],
   "source": [
    "plt.plot(x,y,\"g+--\")"
   ]
  },
  {
   "cell_type": "markdown",
   "id": "a2825ce0",
   "metadata": {},
   "source": [
    "## Bar plot"
   ]
  },
  {
   "cell_type": "code",
   "execution_count": 32,
   "id": "6d6f2ab4",
   "metadata": {
    "scrolled": false
   },
   "outputs": [
    {
     "data": {
      "text/plain": [
       "<BarContainer object of 3 artists>"
      ]
     },
     "execution_count": 32,
     "metadata": {},
     "output_type": "execute_result"
    },
    {
     "data": {
      "image/png": "[encoded data removed]",
      "text/plain": [
       "<Figure size 432x288 with 1 Axes>"
      ]
     },
     "metadata": {
      "needs_background": "light"
     },
     "output_type": "display_data"
    }
   ],
   "source": [
    "x = [2,35,13]\n",
    "y= [34,39,56]\n",
    "\n",
    "x1 = [3,42,19]\n",
    "y1= [30,40,54]\n",
    "\n",
    "plt.bar(x,y,color='b')   # x is point ion x axis , y is height \n",
    "plt.bar(x1,y1,color='g')"
   ]
  },
  {
   "cell_type": "code",
   "execution_count": 39,
   "id": "4c34e696",
   "metadata": {},
   "outputs": [
    {
     "data": {
      "text/plain": [
       "<BarContainer object of 3 artists>"
      ]
     },
     "execution_count": 39,
     "metadata": {},
     "output_type": "execute_result"
    },
    {
     "data": {
      "image/png": "[encoded data removed]",
      "text/plain": [
       "<Figure size 432x288 with 1 Axes>"
      ]
     },
     "metadata": {
      "needs_background": "light"
     },
     "output_type": "display_data"
    }
   ],
   "source": [
    "x = [2,35,13]\n",
    "y= [34,39,56]\n",
    "\n",
    "x1 = [3,42,19]\n",
    "y1= [30,40,54]\n",
    "\n",
    "plt.barh(x,y,color='b')  \n",
    "plt.barh(x1,y1,color='g')"
   ]
  },
  {
   "cell_type": "markdown",
   "id": "fbbf9041",
   "metadata": {},
   "source": [
    "## Hist Plot"
   ]
  },
  {
   "cell_type": "code",
   "execution_count": 34,
   "id": "e593213c",
   "metadata": {},
   "outputs": [
    {
     "data": {
      "text/plain": [
       "(array([2., 1., 1., 4., 1., 2., 2., 0., 1., 2.]),\n",
       " array([ 1. , 10.7, 20.4, 30.1, 39.8, 49.5, 59.2, 68.9, 78.6, 88.3, 98. ]),\n",
       " <BarContainer object of 10 artists>)"
      ]
     },
     "execution_count": 34,
     "metadata": {},
     "output_type": "execute_result"
    },
    {
     "data": {
      "image/png": "[encoded data removed]",
      "text/plain": [
       "<Figure size 432x288 with 1 Axes>"
      ]
     },
     "metadata": {
      "needs_background": "light"
     },
     "output_type": "display_data"
    }
   ],
   "source": [
    "a = np.array([1,67,54,34,94,29,10,98,58,32,61,87,39,14,41,38])\n",
    "plt.hist(a,color=\"m\")"
   ]
  },
  {
   "cell_type": "markdown",
   "id": "49a2e1cb",
   "metadata": {},
   "source": [
    "## Box Plot"
   ]
  },
  {
   "cell_type": "code",
   "execution_count": 36,
   "id": "4df2c752",
   "metadata": {},
   "outputs": [
    {
     "data": {
      "text/plain": [
       "[array([-0.42957682, -2.06992719,  1.84281497,  0.94044937,  0.34760149,\n",
       "         1.06518017,  0.16220921, -0.12133853,  2.10615019,  0.60575785,\n",
       "        -0.01446831, -0.17373641,  0.28725356, -2.01732875, -1.07465567,\n",
       "         0.16110283,  0.64711001,  0.5215332 ,  0.12503137,  0.82516769,\n",
       "        -1.68302902, -2.15992906,  0.4557249 ,  2.23874773,  0.26168565,\n",
       "        -0.01989108,  0.23432613,  0.66493224,  2.6936677 , -0.96288514,\n",
       "         1.50625693,  2.38570161, -0.70271829, -0.54732134, -0.14036598,\n",
       "         1.57061012,  0.73740492, -0.19374166,  0.45746347,  0.10324067,\n",
       "         0.12456547, -1.67782747, -0.62945418,  0.39645276, -1.22354523,\n",
       "         0.3577476 , -1.22814087,  0.12000264, -0.75502939,  1.26659036,\n",
       "        -0.54464785,  0.67612591,  1.15508421,  1.61818324,  0.36578733,\n",
       "        -0.62673745, -1.58557314, -0.16729146, -1.15196729,  1.53794608,\n",
       "        -0.80371737, -0.55005237,  0.22868161,  0.71642089,  0.04318388,\n",
       "        -0.02551495,  2.73743792,  0.44812175,  0.51771872,  1.35060711,\n",
       "         1.49123422,  0.35325335,  0.86074525, -2.17509481, -0.19240016,\n",
       "        -0.23474132, -0.32581537,  0.06614382,  0.23044316, -0.19099246,\n",
       "         0.392478  ,  0.18710104, -0.91097928,  1.0564791 ,  1.49841229,\n",
       "         1.69384126, -0.16186883, -0.01666086,  1.25997783,  1.76265888,\n",
       "        -1.72955359,  0.77246056,  0.32064954,  2.06627689, -1.31300956,\n",
       "         0.52347634,  0.48605155, -1.02204492,  0.75899769,  0.30036015]),\n",
       " array([-4.55090149, -1.68319604, -3.55730393,  1.50790804, -1.08913601,\n",
       "         1.30325778, -0.03975129,  2.38395105, -1.44346364,  3.50406839,\n",
       "         3.53158799, -0.24064189, -1.87482691, -2.25797823,  4.34272861,\n",
       "         0.75690146, -1.68694658, -1.79942013,  6.08930097, -0.0702637 ,\n",
       "        -1.74286125,  0.76229103, -0.10529301, -0.75421477,  3.07405539,\n",
       "        -1.08326116, -0.03644294, -2.48124674, -0.45848412,  2.46385194,\n",
       "         2.8102263 , -2.72987747,  0.33495591,  2.56363553,  4.37522039,\n",
       "        -0.91099269,  3.6318206 , -3.13409534,  0.69807559, -0.05696499,\n",
       "        -0.50792598, -2.2392855 , -2.96661511,  0.8586643 ,  1.74905533,\n",
       "        -0.24599026,  3.8441078 , -0.73630704,  3.92545434,  0.49898005,\n",
       "         2.43432436, -1.92122032,  2.1105763 ,  2.28965168,  2.51551854,\n",
       "         1.54433736,  1.43150104, -1.29440768,  1.80687463, -1.78119777,\n",
       "        -2.58439108, -1.96987201,  0.30859548, -1.23153098,  1.88591936,\n",
       "        -0.30419086, -1.82668446, -0.35766305,  1.71341309,  0.41596156,\n",
       "         2.75997276,  3.37615718, -1.8806612 ,  1.26944027,  0.97816115,\n",
       "        -1.54726691, -0.97529042,  1.52308918,  0.40585637,  0.35744476,\n",
       "         1.87852085,  1.79060484, -0.35924834, -0.37386422,  4.38452405,\n",
       "        -0.47227284, -1.92786456,  2.06702222, -2.07478832, -2.0921151 ,\n",
       "         0.74474127, -1.05067062,  0.68157585, -3.15864791, -1.24987884,\n",
       "        -0.28706492,  3.82144397,  0.50757952, -1.01276158, -0.10335653]),\n",
       " array([-2.76165026, -1.90891479,  3.97486647,  1.60121488, -0.5933272 ,\n",
       "         0.63786553, -0.40039964, -3.56703526, -1.51942928, -0.19501066,\n",
       "         3.52372276, -1.92784115,  1.3804671 ,  0.18651341, -0.77213003,\n",
       "         1.09255432,  2.1851005 ,  1.57577574,  3.81434687,  0.84955212,\n",
       "        -2.30555346, -2.30154021, -0.35888242,  2.81763675, -2.61605494,\n",
       "        -1.66111527, -2.82878086,  5.9106815 ,  0.75116599, -0.4986445 ,\n",
       "        -3.06028834,  3.84043854,  2.40998749, -3.15671563, -1.51631011,\n",
       "         1.13868241,  2.38568675, -0.19183428,  4.65578152,  2.23037944,\n",
       "        -1.08754719,  5.22415073, -2.30758651,  4.55422258,  0.74141696,\n",
       "         3.15905802, -3.26694696,  1.6752199 , -1.36764604,  1.19047731,\n",
       "        -2.47953923,  4.60867399,  0.65091472,  0.03223001, -5.34095423,\n",
       "         8.01393704, -2.98084693,  7.96420232,  2.29018209, -2.16970472,\n",
       "        -3.91604568, -0.58249295, -5.64964523, -0.41380364, -2.67900029,\n",
       "        -6.15256229,  2.5475433 , -0.07309396, -4.70608772,  3.67407965,\n",
       "         7.49598482,  1.38175802, -2.77630424, -1.10906737,  1.19385763,\n",
       "         1.40597535,  1.01677211,  0.83421199, -2.27625636, -5.03602042,\n",
       "         4.66481183, -2.03978942, -0.4455161 ,  3.7712127 , -1.74384988,\n",
       "         1.63922037,  5.67411933, -1.59408796, -0.35569504,  5.71099823,\n",
       "        -1.62728562, -1.79405177,  1.86952915,  0.73093158,  2.18945352,\n",
       "        -0.49733947,  2.95883754,  1.57363082,  3.57885673, -2.61246888])]"
      ]
     },
     "execution_count": 36,
     "metadata": {},
     "output_type": "execute_result"
    }
   ],
   "source": [
    "data =[np.random.normal(0,std,100) for std in range(1,4)]\n",
    "data"
   ]
  },
  {
   "cell_type": "code",
   "execution_count": 38,
   "id": "76bb89c2",
   "metadata": {},
   "outputs": [
    {
     "data": {
      "image/png": "[encoded data removed]",
      "text/plain": [
       "<Figure size 432x288 with 1 Axes>"
      ]
     },
     "metadata": {
      "needs_background": "light"
     },
     "output_type": "display_data"
    }
   ],
   "source": [
    "plt.boxplot(data)\n",
    "plt.show()"
   ]
  },
  {
   "cell_type": "code",
   "execution_count": 7,
   "id": "b3c20b19",
   "metadata": {},
   "outputs": [
    {
     "data": {
      "text/plain": [
       "([<matplotlib.patches.Wedge at 0x16aa6ca33d0>,\n",
       "  <matplotlib.patches.Wedge at 0x16aa6ca3730>,\n",
       "  <matplotlib.patches.Wedge at 0x16aa6ca3bb0>,\n",
       "  <matplotlib.patches.Wedge at 0x16aa6ca3fd0>],\n",
       " [Text(1.0830598397200006, 0.1923054434634823, 'c'),\n",
       "  Text(0.7503988878993761, 0.8043018768095594, 'java'),\n",
       "  Text(-1.0009598653446554, 0.45615715271078405, 'python'),\n",
       "  Text(0.5262739575937163, -0.965937742071738, 'ruby')])"
      ]
     },
     "execution_count": 7,
     "metadata": {},
     "output_type": "execute_result"
    },
    {
     "data": {
      "image/png": "[encoded data removed]",
      "text/plain": [
       "<Figure size 432x288 with 1 Axes>"
      ]
     },
     "metadata": {},
     "output_type": "display_data"
    }
   ],
   "source": [
    "sizes = [90,240,730,549]\n",
    "labels= [\"c\", 'java','python','ruby']\n",
    "plt.pie(sizes,labels= labels)"
   ]
  },
  {
   "cell_type": "code",
   "execution_count": 18,
   "id": "14a2cafb",
   "metadata": {},
   "outputs": [
    {
     "data": {
      "text/plain": [
       "([<matplotlib.patches.Wedge at 0x16aa7003760>,\n",
       "  <matplotlib.patches.Wedge at 0x16aa7003e50>,\n",
       "  <matplotlib.patches.Wedge at 0x16aa7011520>,\n",
       "  <matplotlib.patches.Wedge at 0x16aa7011bb0>],\n",
       " [Text(1.4768997814363645, 0.2622346956320213, 'c'),\n",
       "  Text(0.7503988878993761, 0.8043018768095594, 'java'),\n",
       "  Text(-1.0919562167396242, 0.49762598477540076, 'python'),\n",
       "  Text(0.5262739575937163, -0.965937742071738, 'ruby')],\n",
       " [Text(0.9845998542909096, 0.17482313042134753, '5.59%'),\n",
       "  Text(0.40930848430875055, 0.438710114623396, '14.92%'),\n",
       "  Text(-0.6369744597647806, 0.2902818244523171, '45.37%'),\n",
       "  Text(0.2870585223238452, -0.5268751320391297, '34.12%')])"
      ]
     },
     "execution_count": 18,
     "metadata": {},
     "output_type": "execute_result"
    },
    {
     "data": {
      "image/png": "[encoded data removed]",
      "text/plain": [
       "<Figure size 432x288 with 1 Axes>"
      ]
     },
     "metadata": {},
     "output_type": "display_data"
    }
   ],
   "source": [
    "sizes = [90,240,730,549]\n",
    "labels= [\"c\", 'java','python','ruby']\n",
    "explode=[0.4,0,0.1,0]\n",
    "plt.pie(sizes,labels= labels, explode=explode, autopct='%1.2f%%')"
   ]
  },
  {
   "cell_type": "markdown",
   "id": "bff49eda",
   "metadata": {},
   "source": [
    "## Functional Method"
   ]
  },
  {
   "cell_type": "code",
   "execution_count": 20,
   "id": "33aab4b1",
   "metadata": {},
   "outputs": [
    {
     "data": {
      "text/plain": [
       "array([0. , 0.5, 1. , 1.5, 2. , 2.5, 3. , 3.5, 4. , 4.5, 5. ])"
      ]
     },
     "execution_count": 20,
     "metadata": {},
     "output_type": "execute_result"
    }
   ],
   "source": [
    "x = np.linspace(0,5,11)\n",
    "x"
   ]
  },
  {
   "cell_type": "code",
   "execution_count": 22,
   "id": "2a444515",
   "metadata": {},
   "outputs": [
    {
     "data": {
      "text/plain": [
       "array([ 0.  ,  0.25,  1.  ,  2.25,  4.  ,  6.25,  9.  , 12.25, 16.  ,\n",
       "       20.25, 25.  ])"
      ]
     },
     "execution_count": 22,
     "metadata": {},
     "output_type": "execute_result"
    }
   ],
   "source": [
    "y= x**2\n",
    "y"
   ]
  },
  {
   "cell_type": "code",
   "execution_count": 23,
   "id": "d68fbc4f",
   "metadata": {},
   "outputs": [
    {
     "data": {
      "text/plain": [
       "[<matplotlib.lines.Line2D at 0x16aa705a490>]"
      ]
     },
     "execution_count": 23,
     "metadata": {},
     "output_type": "execute_result"
    },
    {
     "data": {
      "image/png": "[encoded data removed]",
      "text/plain": [
       "<Figure size 432x288 with 1 Axes>"
      ]
     },
     "metadata": {
      "needs_background": "light"
     },
     "output_type": "display_data"
    }
   ],
   "source": [
    "plt.plot(x,y)"
   ]
  },
  {
   "cell_type": "code",
   "execution_count": 30,
   "id": "6411a1a9",
   "metadata": {},
   "outputs": [
    {
     "data": {
      "text/plain": [
       "[<matplotlib.lines.Line2D at 0x16aa843f940>]"
      ]
     },
     "execution_count": 30,
     "metadata": {},
     "output_type": "execute_result"
    },
    {
     "data": {
      "image/png": "[encoded data removed]",
      "text/plain": [
       "<Figure size 432x288 with 1 Axes>"
      ]
     },
     "metadata": {
      "needs_background": "light"
     },
     "output_type": "display_data"
    }
   ],
   "source": [
    "plt.subplot(1,2,1)   # subplot(rows,columns, position)\n",
    "plt.plot(x,y,'lime')"
   ]
  },
  {
   "cell_type": "code",
   "execution_count": 29,
   "id": "ce1ff1d1",
   "metadata": {},
   "outputs": [
    {
     "data": {
      "text/plain": [
       "[<matplotlib.lines.Line2D at 0x16aa83c9a30>]"
      ]
     },
     "execution_count": 29,
     "metadata": {},
     "output_type": "execute_result"
    },
    {
     "data": {
      "image/png": "[encoded data removed]",
      "text/plain": [
       "<Figure size 432x288 with 4 Axes>"
      ]
     },
     "metadata": {
      "needs_background": "light"
     },
     "output_type": "display_data"
    }
   ],
   "source": [
    "plt.subplot(2,2,1)   # subplot(rows,columns, position)\n",
    "plt.plot(x,y,'r')\n",
    "\n",
    "plt.subplot(2,2,2)   # subplot(rows,columns, position)\n",
    "plt.plot(x,y,'g')\n",
    "\n",
    "plt.subplot(2,2,3)   # subplot(rows,columns, position)\n",
    "plt.plot(x,y,'b')\n",
    "\n",
    "plt.subplot(2,2,4)   # subplot(rows,columns, position)\n",
    "plt.plot(x,y,'m')"
   ]
  },
  {
   "cell_type": "code",
   "execution_count": 39,
   "id": "def89285",
   "metadata": {},
   "outputs": [
    {
     "data": {
      "text/plain": [
       "[<matplotlib.lines.Line2D at 0x16aa81b4dc0>]"
      ]
     },
     "execution_count": 39,
     "metadata": {},
     "output_type": "execute_result"
    },
    {
     "data": {
      "image/png": "[encoded data removed]",
      "text/plain": [
       "<Figure size 432x288 with 1 Axes>"
      ]
     },
     "metadata": {
      "needs_background": "light"
     },
     "output_type": "display_data"
    }
   ],
   "source": [
    "fig = plt.figure()\n",
    "axes = fig.add_axes([0.1,0.1,0.9,0.9])   #add_axes(left,bottom,width,height)\n",
    "axes.plot(x,y)"
   ]
  },
  {
   "cell_type": "code",
   "execution_count": 57,
   "id": "9b9f598d",
   "metadata": {},
   "outputs": [
    {
     "data": {
      "text/plain": [
       "<matplotlib.legend.Legend at 0x16aa9e60f10>"
      ]
     },
     "execution_count": 57,
     "metadata": {},
     "output_type": "execute_result"
    },
    {
     "data": {
      "image/png": "[encoded data removed]",
      "text/plain": [
       "<Figure size 432x288 with 2 Axes>"
      ]
     },
     "metadata": {
      "needs_background": "light"
     },
     "output_type": "display_data"
    }
   ],
   "source": [
    "fig = plt.figure()\n",
    "axes1 = fig.add_axes([0.1,0.1,0.9,0.9])   #add_axes(left,bottom,width,height)\n",
    "axes1.plot(x,y,'r',label='red')\n",
    "\n",
    "axes2 = fig.add_axes([0.15,0.65,0.3,0.3])   #add_axes(left,bottom,width,height)\n",
    "axes2.plot(x,y,'b',label='blue')\n",
    "\n",
    "axes1.legend(loc=4)\n",
    "axes2.legend()\n"
   ]
  },
  {
   "cell_type": "code",
   "execution_count": 60,
   "id": "ef71dfbd",
   "metadata": {},
   "outputs": [],
   "source": [
    "fig.savefig('graph.jpg')"
   ]
  },
  {
   "cell_type": "code",
   "execution_count": null,
   "id": "5115aa48",
   "metadata": {},
   "outputs": [],
   "source": []
  }
 ],
 "metadata": {
  "kernelspec": {
   "display_name": "Python 3",
   "language": "python",
   "name": "python3"
  },
  "language_info": {
   "codemirror_mode": {
    "name": "ipython",
    "version": 3
   },
   "file_extension": ".py",
   "mimetype": "text/x-python",
   "name": "python",
   "nbconvert_exporter": "python",
   "pygments_lexer": "ipython3",
   "version": "3.8.8"
  }
 },
 "nbformat": 4,
 "nbformat_minor": 5
}
